{
  "cells": [
    {
      "cell_type": "markdown",
      "metadata": {
        "id": "view-in-github",
        "colab_type": "text"
      },
      "source": [
        "<a href=\"https://colab.research.google.com/github/mkrajevsky/NLP_guzman/blob/main/Micha%C5%82_Krajewski_01_Gradient_Descent.ipynb\" target=\"_parent\"><img src=\"https://colab.research.google.com/assets/colab-badge.svg\" alt=\"Open In Colab\"/></a>"
      ]
    },
    {
      "cell_type": "markdown",
      "source": [
        "#$\\textbf{The Gradient Descent}$\n",
        "---"
      ],
      "metadata": {
        "id": "TxsLfDDQBtkk"
      },
      "id": "TxsLfDDQBtkk"
    },
    {
      "cell_type": "markdown",
      "source": [
        "$\\textbf{Import libraries}$"
      ],
      "metadata": {
        "id": "OpsUbW_yLw7n"
      },
      "id": "OpsUbW_yLw7n"
    },
    {
      "cell_type": "code",
      "execution_count": 37,
      "id": "9682071c",
      "metadata": {
        "id": "9682071c"
      },
      "outputs": [],
      "source": [
        "%matplotlib inline\n",
        "import matplotlib.pyplot as plt\n",
        "import numpy as np\n",
        "import pandas as pd\n",
        "import warnings\n",
        "with warnings.catch_warnings():\n",
        "    warnings.simplefilter(action='ignore', category=FutureWarning)"
      ]
    },
    {
      "cell_type": "markdown",
      "source": [
        "$\\textbf{The gradient descent} \\color{blue}{\\textbf{ class}}$"
      ],
      "metadata": {
        "id": "KtAlknbJL65H"
      },
      "id": "KtAlknbJL65H"
    },
    {
      "cell_type": "code",
      "execution_count": 33,
      "id": "bbe7fec7",
      "metadata": {
        "id": "bbe7fec7"
      },
      "outputs": [],
      "source": [
        "class Gradient_Descent:\n",
        "    def __init__(self, function, derivative):\n",
        "        self.f = function\n",
        "        self.f_der = derivative\n",
        "        self.path = []\n",
        "        self.table = pd.DataFrame(columns = [\"epoch\", \"x\", \"f(x)\", \"d=m*LR\"])\n",
        "\n",
        "\n",
        "    def compute(self, x, epochs, LR):\n",
        "        self.path = [x] # the path of x along f(x)\n",
        "        for i in range(epochs):\n",
        "            m = self.f_der(x) # obtain derivative at current x\n",
        "            x = x - (LR * m) # descend a distance d = LR * m\n",
        "            self.path.append(x)\n",
        "            row = {\"epoch\": i, \"x\": x, \"f(x)\": self.f(x), \"d=m*LR\": LR*m}\n",
        "\n",
        "            self.table = self.table.append(row, ignore_index = True)\n",
        "\n",
        "    def plot_gradient(self):\n",
        "        results = self.path\n",
        "        n  = max(abs(max(results)), abs(min(results)))\n",
        "        x = np.linspace(-n, n, 100)\n",
        "        y = self.f(x)\n",
        "        plt.plot(x, y)\n",
        "        plt.scatter(results, [self.f(x) for x in results], c='r')\n",
        "        plt.show()\n",
        "\n",
        "    def display_table(self):\n",
        "        print(self.table)\n"
      ]
    },
    {
      "cell_type": "markdown",
      "source": [
        "$\\textbf{Error function } \\color{blue}{f(x)} \\textbf{ and its derivative } \\color{red}{f'(x)}$"
      ],
      "metadata": {
        "id": "NATjtydFMMJP"
      },
      "id": "NATjtydFMMJP"
    },
    {
      "cell_type": "code",
      "execution_count": 34,
      "id": "b32dd4df",
      "metadata": {
        "id": "b32dd4df"
      },
      "outputs": [],
      "source": [
        "# Error function\n",
        "def f(x):\n",
        "    return (1/2) * (x**2)\n",
        "\n",
        "# Derivative of f(x)\n",
        "def f_der(x):\n",
        "    return x"
      ]
    },
    {
      "cell_type": "markdown",
      "source": [
        "$\\textbf{Main Program}$"
      ],
      "metadata": {
        "id": "mctmlee5NaWN"
      },
      "id": "mctmlee5NaWN"
    },
    {
      "cell_type": "code",
      "execution_count": 35,
      "id": "d7bdbf5b",
      "metadata": {
        "id": "d7bdbf5b",
        "colab": {
          "base_uri": "https://localhost:8080/",
          "height": 790
        },
        "outputId": "fcd3c239-2139-4957-9dd3-bb2216a5b6b2"
      },
      "outputs": [
        {
          "output_type": "stream",
          "name": "stderr",
          "text": [
            "<ipython-input-33-188a206a2d9d>:17: FutureWarning: The frame.append method is deprecated and will be removed from pandas in a future version. Use pandas.concat instead.\n",
            "  self.table = self.table.append(row, ignore_index = True)\n",
            "<ipython-input-33-188a206a2d9d>:17: FutureWarning: The frame.append method is deprecated and will be removed from pandas in a future version. Use pandas.concat instead.\n",
            "  self.table = self.table.append(row, ignore_index = True)\n",
            "<ipython-input-33-188a206a2d9d>:17: FutureWarning: The frame.append method is deprecated and will be removed from pandas in a future version. Use pandas.concat instead.\n",
            "  self.table = self.table.append(row, ignore_index = True)\n",
            "<ipython-input-33-188a206a2d9d>:17: FutureWarning: The frame.append method is deprecated and will be removed from pandas in a future version. Use pandas.concat instead.\n",
            "  self.table = self.table.append(row, ignore_index = True)\n",
            "<ipython-input-33-188a206a2d9d>:17: FutureWarning: The frame.append method is deprecated and will be removed from pandas in a future version. Use pandas.concat instead.\n",
            "  self.table = self.table.append(row, ignore_index = True)\n",
            "<ipython-input-33-188a206a2d9d>:17: FutureWarning: The frame.append method is deprecated and will be removed from pandas in a future version. Use pandas.concat instead.\n",
            "  self.table = self.table.append(row, ignore_index = True)\n",
            "<ipython-input-33-188a206a2d9d>:17: FutureWarning: The frame.append method is deprecated and will be removed from pandas in a future version. Use pandas.concat instead.\n",
            "  self.table = self.table.append(row, ignore_index = True)\n",
            "<ipython-input-33-188a206a2d9d>:17: FutureWarning: The frame.append method is deprecated and will be removed from pandas in a future version. Use pandas.concat instead.\n",
            "  self.table = self.table.append(row, ignore_index = True)\n",
            "<ipython-input-33-188a206a2d9d>:17: FutureWarning: The frame.append method is deprecated and will be removed from pandas in a future version. Use pandas.concat instead.\n",
            "  self.table = self.table.append(row, ignore_index = True)\n",
            "<ipython-input-33-188a206a2d9d>:17: FutureWarning: The frame.append method is deprecated and will be removed from pandas in a future version. Use pandas.concat instead.\n",
            "  self.table = self.table.append(row, ignore_index = True)\n"
          ]
        },
        {
          "output_type": "display_data",
          "data": {
            "text/plain": [
              "<Figure size 640x480 with 1 Axes>"
            ],
            "image/png": "[encoded data removed]"
          },
          "metadata": {}
        }
      ],
      "source": [
        "# Define parameters\n",
        "x_ini = 10 # initial value of x\n",
        "epochs = 10 # number of iterations\n",
        "LR = 0.3 # Learning Rate\n",
        "\n",
        "# Create an instance\n",
        "gd1 = Gradient_Descent(f, f_der)\n",
        "\n",
        "# Compute and plot the gradient\n",
        "gd1.compute(x_ini, epochs, LR)\n",
        "gd1.plot_gradient()"
      ]
    },
    {
      "cell_type": "markdown",
      "source": [
        "#$\\color{green}{\\textbf{Exercise 1}}$\n",
        "---"
      ],
      "metadata": {
        "id": "kKedFA9bVUuD"
      },
      "id": "kKedFA9bVUuD"
    },
    {
      "cell_type": "markdown",
      "source": [
        "\n",
        "\n",
        "1.  Modify the gradient descent class and add the method\n",
        "```\n",
        "def display_table(self):\n",
        "        # code\n",
        "        # hint: use pandas DataFrame\n",
        "```\n",
        "   to display, for each epoch, the following information:\n",
        "\n",
        "  \\begin{array}{c|c|c|c|c }\n",
        "    \\text{epoch} & x & f(x) & m & d = m * LR \\\\\n",
        "    \\hline\n",
        "    1 & & & & \\\\\n",
        "    2 & & & & \\\\\n",
        "    \\ldots &\n",
        "  \\end{array}\n",
        "\n",
        "  Find values for the number of epochs and the $LR$ such that the minimum $(x → 0)$ can be found in few steps.\n",
        "  \n",
        "  🌐 https://pandas.pydata.org/docs/reference/api/pandas.DataFrame.html\n",
        "\n",
        "2.  Add another error function $f(x) = x^2$ and its derivative $f'(x) = 2x$\n",
        "\n",
        "  ```\n",
        "  def f1(x):\n",
        "        return x ** 2\n",
        "\n",
        "  def f1_der(x):\n",
        "        return 2 * x\n",
        "  ```\n",
        "  and test them with your new method:\n",
        "  ```\n",
        "  gd2 = Gradient_Descent(f1, f1_der)\n",
        "  gd2.compute(x_ini, epochs, LR)\n",
        "  gd2.display_table()\n",
        "  ```\n",
        "  \n",
        "  Compare the results between the two error functions using the same values (i.e., x_ini, epochs, and LR)\n",
        "\n",
        "  Do they behave differently?"
      ],
      "metadata": {
        "id": "Atfa5xTmaUsb"
      },
      "id": "Atfa5xTmaUsb"
    },
    {
      "cell_type": "code",
      "source": [
        "\n",
        "def f1(x):\n",
        "    return x ** 2\n",
        "\n",
        "def f1_der(x):\n",
        "    return 2 * x\n",
        "\n",
        "gd2 = Gradient_Descent(f1, f1_der)\n",
        "gd2.compute(x_ini, epochs, LR)\n",
        "gd2.display_table()\n"
      ],
      "metadata": {
        "colab": {
          "base_uri": "https://localhost:8080/"
        },
        "id": "xGAL8bNhVDz_",
        "outputId": "072db227-4226-4767-ed85-435841500d39"
      },
      "id": "xGAL8bNhVDz_",
      "execution_count": 36,
      "outputs": [
        {
          "output_type": "stream",
          "name": "stdout",
          "text": [
            "   epoch         x       f(x)    d=m*LR\n",
            "0    0.0  4.000000  16.000000  6.000000\n",
            "1    1.0  1.600000   2.560000  2.400000\n",
            "2    2.0  0.640000   0.409600  0.960000\n",
            "3    3.0  0.256000   0.065536  0.384000\n",
            "4    4.0  0.102400   0.010486  0.153600\n",
            "5    5.0  0.040960   0.001678  0.061440\n",
            "6    6.0  0.016384   0.000268  0.024576\n",
            "7    7.0  0.006554   0.000043  0.009830\n",
            "8    8.0  0.002621   0.000007  0.003932\n",
            "9    9.0  0.001049   0.000001  0.001573\n"
          ]
        },
        {
          "output_type": "stream",
          "name": "stderr",
          "text": [
            "<ipython-input-33-188a206a2d9d>:17: FutureWarning: The frame.append method is deprecated and will be removed from pandas in a future version. Use pandas.concat instead.\n",
            "  self.table = self.table.append(row, ignore_index = True)\n",
            "<ipython-input-33-188a206a2d9d>:17: FutureWarning: The frame.append method is deprecated and will be removed from pandas in a future version. Use pandas.concat instead.\n",
            "  self.table = self.table.append(row, ignore_index = True)\n",
            "<ipython-input-33-188a206a2d9d>:17: FutureWarning: The frame.append method is deprecated and will be removed from pandas in a future version. Use pandas.concat instead.\n",
            "  self.table = self.table.append(row, ignore_index = True)\n",
            "<ipython-input-33-188a206a2d9d>:17: FutureWarning: The frame.append method is deprecated and will be removed from pandas in a future version. Use pandas.concat instead.\n",
            "  self.table = self.table.append(row, ignore_index = True)\n",
            "<ipython-input-33-188a206a2d9d>:17: FutureWarning: The frame.append method is deprecated and will be removed from pandas in a future version. Use pandas.concat instead.\n",
            "  self.table = self.table.append(row, ignore_index = True)\n",
            "<ipython-input-33-188a206a2d9d>:17: FutureWarning: The frame.append method is deprecated and will be removed from pandas in a future version. Use pandas.concat instead.\n",
            "  self.table = self.table.append(row, ignore_index = True)\n",
            "<ipython-input-33-188a206a2d9d>:17: FutureWarning: The frame.append method is deprecated and will be removed from pandas in a future version. Use pandas.concat instead.\n",
            "  self.table = self.table.append(row, ignore_index = True)\n",
            "<ipython-input-33-188a206a2d9d>:17: FutureWarning: The frame.append method is deprecated and will be removed from pandas in a future version. Use pandas.concat instead.\n",
            "  self.table = self.table.append(row, ignore_index = True)\n",
            "<ipython-input-33-188a206a2d9d>:17: FutureWarning: The frame.append method is deprecated and will be removed from pandas in a future version. Use pandas.concat instead.\n",
            "  self.table = self.table.append(row, ignore_index = True)\n",
            "<ipython-input-33-188a206a2d9d>:17: FutureWarning: The frame.append method is deprecated and will be removed from pandas in a future version. Use pandas.concat instead.\n",
            "  self.table = self.table.append(row, ignore_index = True)\n"
          ]
        }
      ]
    }
  ],
  "metadata": {
    "kernelspec": {
      "display_name": "Python 3 (ipykernel)",
      "language": "python",
      "name": "python3"
    },
    "language_info": {
      "codemirror_mode": {
        "name": "ipython",
        "version": 3
      },
      "file_extension": ".py",
      "mimetype": "text/x-python",
      "name": "python",
      "nbconvert_exporter": "python",
      "pygments_lexer": "ipython3",
      "version": "3.10.11"
    },
    "colab": {
      "provenance": [],
      "toc_visible": true,
      "include_colab_link": true
    }
  },
  "nbformat": 4,
  "nbformat_minor": 5
}