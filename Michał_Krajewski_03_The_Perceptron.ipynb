{
  "cells": [
    {
      "cell_type": "markdown",
      "metadata": {
        "id": "view-in-github",
        "colab_type": "text"
      },
      "source": [
        "<a href=\"https://colab.research.google.com/github/mkrajevsky/NLP_guzman/blob/main/Micha%C5%82_Krajewski_03_The_Perceptron.ipynb\" target=\"_parent\"><img src=\"https://colab.research.google.com/assets/colab-badge.svg\" alt=\"Open In Colab\"/></a>"
      ]
    },
    {
      "cell_type": "markdown",
      "source": [
        "#$\\textbf{The Perceptron}$\n",
        "---"
      ],
      "metadata": {
        "id": "xgaskKxwdD9x"
      },
      "id": "xgaskKxwdD9x"
    },
    {
      "cell_type": "markdown",
      "source": [
        "$\\textbf{Import libraries}$"
      ],
      "metadata": {
        "id": "03KkpsiUdOk3"
      },
      "id": "03KkpsiUdOk3"
    },
    {
      "cell_type": "code",
      "source": [
        "import numpy as np"
      ],
      "metadata": {
        "id": "5qPK0pkSP8k2"
      },
      "id": "5qPK0pkSP8k2",
      "execution_count": null,
      "outputs": []
    },
    {
      "cell_type": "markdown",
      "source": [
        "$\\textbf{The perceptron} \\color{blue}{\\textbf{ class}}$"
      ],
      "metadata": {
        "id": "gqb37eV4dUfx"
      },
      "id": "gqb37eV4dUfx"
    },
    {
      "cell_type": "code",
      "source": [
        "class Perceptron:\n",
        "    def __init__(self, X, W, b):\n",
        "        self.X = X\n",
        "        self.W = W\n",
        "        self.b = b\n",
        "\n",
        "    def sigmoid(self, z):\n",
        "        return 1/(1 + np.exp(-z))\n",
        "\n",
        "    def forward_pass(self):\n",
        "        z = np.dot(self.X.T, self.W) + self.b\n",
        "        return self.sigmoid(z)\n",
        "\n",
        "class Neural_Network:\n",
        "     def __init__(self, X, W1, B1, W2, B2):\n",
        "         self.X=X\n",
        "\n",
        "     def sigmoid(self, z):\n",
        "         return 1/(1 + np.exp(-z))\n",
        "     def forward_pass(self):\n",
        "         # your code here\n"
      ],
      "metadata": {
        "id": "iq8BP8UCIKPK",
        "colab": {
          "base_uri": "https://localhost:8080/",
          "height": 105
        },
        "outputId": "e157cded-9214-44c9-d22d-b93d6d700f48"
      },
      "id": "iq8BP8UCIKPK",
      "execution_count": null,
      "outputs": [
        {
          "output_type": "error",
          "ename": "SyntaxError",
          "evalue": "incomplete input (<ipython-input-1-1a8e14a399ed>, line 14)",
          "traceback": [
            "\u001b[0;36m  File \u001b[0;32m\"<ipython-input-1-1a8e14a399ed>\"\u001b[0;36m, line \u001b[0;32m14\u001b[0m\n\u001b[0;31m    class Neural_Network:\u001b[0m\n\u001b[0m                         ^\u001b[0m\n\u001b[0;31mSyntaxError\u001b[0m\u001b[0;31m:\u001b[0m incomplete input\n"
          ]
        }
      ]
    },
    {
      "cell_type": "markdown",
      "source": [
        "$\\textbf{Function to display the results as a truth table}$"
      ],
      "metadata": {
        "id": "jCpXiz-ZfZ4g"
      },
      "id": "jCpXiz-ZfZ4g"
    },
    {
      "cell_type": "code",
      "source": [
        "def display_table(inputs, gate_name, final_result):\n",
        "    for i in range(len(inputs)):\n",
        "        print(inputs[i][0], gate_name, inputs[i][1], '=', round(final_result[i]))"
      ],
      "metadata": {
        "id": "q8cheOg5XSe4"
      },
      "id": "q8cheOg5XSe4",
      "execution_count": null,
      "outputs": []
    },
    {
      "cell_type": "markdown",
      "source": [
        "$\\color{red} {\\textbf{Input data}}$"
      ],
      "metadata": {
        "id": "BvK9N3nEf2xj"
      },
      "id": "BvK9N3nEf2xj"
    },
    {
      "cell_type": "markdown",
      "source": [],
      "metadata": {
        "id": "nLVuQ3qTbcAB"
      },
      "id": "nLVuQ3qTbcAB"
    },
    {
      "cell_type": "code",
      "source": [
        "X = np.array([[1, 1, 0, 0],\n",
        "              [1, 0, 1, 0]])\n",
        "print(X.T)"
      ],
      "metadata": {
        "id": "jgTLr5I7N4El"
      },
      "id": "jgTLr5I7N4El",
      "execution_count": null,
      "outputs": []
    },
    {
      "cell_type": "markdown",
      "source": [
        "$\\textbf{Main Program}$"
      ],
      "metadata": {
        "id": "Hb6NQ2XXgDVM"
      },
      "id": "Hb6NQ2XXgDVM"
    },
    {
      "cell_type": "code",
      "source": [
        "# OR gate:\n",
        "or_gate = Perceptron(X, np.array([20, 20]), -10)\n",
        "display_table(X.T, 'or', or_gate.forward_pass())"
      ],
      "metadata": {
        "id": "N78QLmYqIJ7E"
      },
      "id": "N78QLmYqIJ7E",
      "execution_count": null,
      "outputs": []
    },
    {
      "cell_type": "code",
      "source": [
        "# AND gate:"
      ],
      "metadata": {
        "id": "5uX_DQC3QPb5"
      },
      "id": "5uX_DQC3QPb5",
      "execution_count": null,
      "outputs": []
    },
    {
      "cell_type": "code",
      "source": [
        "# NOR gate:"
      ],
      "metadata": {
        "id": "AlHna1gOQPXY"
      },
      "id": "AlHna1gOQPXY",
      "execution_count": null,
      "outputs": []
    },
    {
      "cell_type": "code",
      "source": [
        "# NAND gate:"
      ],
      "metadata": {
        "id": "I8vq-rmTQPTO"
      },
      "id": "I8vq-rmTQPTO",
      "execution_count": null,
      "outputs": []
    },
    {
      "cell_type": "code",
      "source": [
        "X = np.array([[1, 1, 0, 0],\n",
        "              [1, 0, 1, 0]])\n",
        "W1 = np.array([[20, -15],\n",
        "               [20, -15]])\n",
        "W2 = np.array([15, 15])\n",
        "B1 = np.array([-10, 20])\n",
        "B2 = np.array([-20])\n",
        "xor_gate = Neural_Network(X, W1, B1, W2, B2)\n",
        "display_table(X.T, 'xor', xor_gate.forward_pass())"
      ],
      "metadata": {
        "id": "tqdNJHKxbY2m"
      },
      "id": "tqdNJHKxbY2m",
      "execution_count": null,
      "outputs": []
    },
    {
      "cell_type": "markdown",
      "source": [
        "#$\\color{green}{\\textbf{Exercise 3}}$\n",
        "---"
      ],
      "metadata": {
        "id": "8bL-BNVQiY2o"
      },
      "id": "8bL-BNVQiY2o"
    },
    {
      "cell_type": "markdown",
      "source": [
        "1. Create the following $\\color{blue}{\\text{class}}$\n",
        "```\n",
        "class Neural_Network:\n",
        "        def __init__(self, X, W1, B1, W2, B2):\n",
        "            # your code here\n",
        "        def sigmoid(self, z):\n",
        "            return 1/(1 + np.exp(-z))\n",
        "        def forward_pass(self):\n",
        "            # your code here\n",
        "```\n",
        "to \"simulate\" a $\\textit{neural network}$ with 1 $\\textit{hidden layer}$ with 2 $\\textit{perceptrons}$ and 1 $\\textit{output layer}$ with 1 $\\textit{perceptron}$.\n",
        "\n",
        "2. Test your code\n",
        "```\n",
        "X = np.array([[1, 1, 0, 0],\n",
        "                 [1, 0, 1, 0]])\n",
        "W1 = np.array([[20, -15],\n",
        "                  [20, -15]])\n",
        "W2 = np.array([15, 15])\n",
        "B1 = np.array([-10, 20])\n",
        "B2 = np.array([-20])\n",
        "xor_gate = Neural_Network(X, W1, B1, W2, B2)\n",
        "display_table(X.T, 'xor', xor_gate.forward_pass())\n",
        "```\n",
        "to simulate the $\\color{green}{\\text{XOR}}$ gate\n",
        "\n",
        "3. Change the values of $\\color{blue}{\\text{W1}}$, $\\color{blue}{\\text{W2}}$, $\\color{blue}{\\text{B1}}$, and $\\color{blue}{\\text{B2}}$ such that your $\\textit{neural network}$ simulates $\\color{green}{\\text{NOR}}$ and $\\color{green}{\\text{AND}}$ gates in the $\\textit{hidden layer}$ (instead of $\\color{green}{\\text{OR}}$ and $\\color{green}{\\text{NAND}}$ gates) and an $\\color{green}{\\text{OR}}$ gate in the $\\textit{output layer}$ (instead of the $\\color{green}{\\text{AND}}$ gate)\n",
        "```\n",
        "xnor_gate = Neural_Network(X, W1=?, B1=?, W2=?, B2=?)\n",
        "display_table(X.T, 'xnor', xnor_gate.forward_pass())\n",
        "```\n",
        "to simulate a $\\color{green}{\\text{XNOR}}$ gate and get\n",
        "```\n",
        "1 xnor 1 = 1\n",
        "1 xnor 0 = 0\n",
        "0 xnor 1 = 0\n",
        "0 xnor 0 = 1\n",
        "```"
      ],
      "metadata": {
        "id": "Hxqli2Rrid1a"
      },
      "id": "Hxqli2Rrid1a"
    }
  ],
  "metadata": {
    "kernelspec": {
      "display_name": "Python 3 (ipykernel)",
      "language": "python",
      "name": "python3"
    },
    "language_info": {
      "codemirror_mode": {
        "name": "ipython",
        "version": 3
      },
      "file_extension": ".py",
      "mimetype": "text/x-python",
      "name": "python",
      "nbconvert_exporter": "python",
      "pygments_lexer": "ipython3",
      "version": "3.7.13"
    },
    "colab": {
      "provenance": [],
      "toc_visible": true,
      "include_colab_link": true
    }
  },
  "nbformat": 4,
  "nbformat_minor": 5
}